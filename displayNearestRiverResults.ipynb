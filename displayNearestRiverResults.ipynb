{
 "cells": [
  {
   "cell_type": "markdown",
   "metadata": {},
   "source": [
    "# Display Nearest River results\n",
    "\n",
    "---------------------------------------------------------------------------\n",
    "\n",
    "<font face=\"cambria\">\n",
    "<u>Usage</u>: Display results for Get Distance to Nearest River (NEAR_DIST) for building centroids in a state, list of states, <br>\n",
    "or each state in a FEMA region. Results can be displayed in a histogram with statistics in a text box, or in a CSV\n",
    "\n",
    "<u>Python version</u>: 3.6"
   ]
  },
  {
   "cell_type": "code",
   "execution_count": 15,
   "metadata": {},
   "outputs": [],
   "source": [
    "## Import libraries"
   ]
  },
  {
   "cell_type": "code",
   "execution_count": 16,
   "metadata": {},
   "outputs": [],
   "source": [
    "import pandas as pd\n",
    "import matplotlib\n",
    "import matplotlib.pyplot as plt\n",
    "import matplotlib.patches as patches\n",
    "import matplotlib.dates as mdates\n",
    "import datetime\n",
    "from time import time\n",
    "from matplotlib.font_manager import FontProperties\n",
    "from matplotlib.ticker import AutoMinorLocator\n",
    "from matplotlib.backends.backend_pdf import PdfPages\n",
    "import numpy as np\n",
    "import os\n",
    "# path up to big-geodata folder\n",
    "import sys; sys.path.append('../../')\n",
    "import re\n",
    "from glob import glob\n",
    "from datetime import date\n",
    "# within big-geodata go to core, and within core find ConventionOps.py and\n",
    "    # displayNearestRiverResults.py\n",
    "from core.ConventionOps import state_codes, stateabb, regstates, sfha_fld_zones\n",
    "from core.near_analysis.displayNearestRiverResults import *"
   ]
  },
  {
   "cell_type": "markdown",
   "metadata": {},
   "source": [
    "## User-defined variables"
   ]
  },
  {
   "cell_type": "code",
   "execution_count": 17,
   "metadata": {
    "collapsed": false,
    "inputHidden": false,
    "outputHidden": false
   },
   "outputs": [],
   "source": [
    "# Select Regions to Process\n",
    "regions = [1, 2, 3, 4, 5, 6, 7, 8, 9, 10]\n",
    "# regions = [4, 5, 6]\n",
    "\n",
    "processingStateList = [statename for reggroup in [regstates[str(r)] for r in regions] for statename in reggroup]"
   ]
  },
  {
   "cell_type": "code",
   "execution_count": 18,
   "metadata": {
    "collapsed": false,
    "inputHidden": false,
    "outputHidden": false
   },
   "outputs": [],
   "source": [
    "# Mapped or Unmapped and Date of Nearest River CSVs\n",
    "stream_type = 'Unmapped'\n",
    "last_updated = '20190819'\n",
    "\n",
    "# True = within SFHA only; False = all centroids\n",
    "sfha = False\n",
    "\n",
    "# histograms, tables, hist_and_tables\n",
    "output_types = 'histograms'\n",
    "\n",
    "# True = best fit text box; Fales = default upper right\n",
    "best_fit = False\n",
    "\n",
    "# folder containing your inputs\n",
    "rootDir = r'T:\\CCSI\\TECH\\FEMA\\FEMA_HQ_Queries\\FEMA_Mission_Support\\Tier0_analytics'\n",
    "\n",
    "# building attribute / flood zone inputs\n",
    "bldg_attr_Root = r'T:\\CCSI\\TECH\\FEMA\\FEMA_HQ_Queries\\FEMA_Mission_Support\\Tier0_analytics\\Building_attributes'"
   ]
  },
  {
   "cell_type": "code",
   "execution_count": 19,
   "metadata": {},
   "outputs": [],
   "source": [
    "# Auto-populated\n",
    "\n",
    "inDist_Folder = os.path.join(rootDir, f'NearFeatures\\\\{stream_type}_REDO_{last_updated}')\n",
    "assert os.path.exists(inDist_Folder), 'Near folder does not exist, check inputs'\n",
    "\n",
    "inCSV_Folder = os.path.join(inDist_Folder, f'{stream_type}_Streams_Dist_CSVs') \n",
    "assert os.path.exists(inCSV_Folder), 'Near CSVs folder does not exist, check inputs'\n",
    "\n",
    "# folder for your outputs\n",
    "outHist_Folder = os.path.join(inDist_Folder, 'histograms')\n",
    "outTable_Folder = os.path.join(inDist_Folder, 'tables')"
   ]
  },
  {
   "cell_type": "markdown",
   "metadata": {},
   "source": [
    "## Setup"
   ]
  },
  {
   "cell_type": "code",
   "execution_count": 20,
   "metadata": {},
   "outputs": [],
   "source": [
    "# start timer\n",
    "starttime = time()\n",
    "# list of input files containing near distance and SFHA information\n",
    "inDist_files = glob(os.path.join(inCSV_Folder, '*_DIST.csv'))\n",
    "assert len(inDist_files) > 0, 'No Near dist CSVs exist! Add or change path'\n",
    "\n",
    "inSFHA_files = glob(os.path.join(bldg_attr_Root, '*_Bldg_Attr.txt'))\n",
    "assert len(inSFHA_files) > 0, 'No Building attribute CSVs (with flood zones) exist! Add or change path'\n",
    "\n",
    "# folders for histogram and table outputs\n",
    "if not os.path.exists(outHist_Folder): \n",
    "    os.mkdir(outHist_Folder)\n",
    "if not os.path.exists(outTable_Folder): \n",
    "    os.mkdir(outTable_Folder)\n",
    "    \n",
    "# set up identifier for mapped or unmapped lines\n",
    "if stream_type == 'Mapped':\n",
    "    map_unmapped = 'ML'\n",
    "else:\n",
    "    map_unmapped = 'UML'\n",
    "    # Alaska and Hawaii have no Unmapped streams\n",
    "    if 'Alaska' in processingStateList: processingStateList.remove('Alaska')\n",
    "    if 'Hawaii' in processingStateList: processingStateList.remove('Hawaii')\n",
    "    \n",
    "# set best fit and sfha\n",
    "if best_fit: \n",
    "    bestFit = 'bestfit'\n",
    "else: \n",
    "    bestFit = 'upperright'\n",
    "    \n",
    "    \n",
    "if sfha: \n",
    "    insfha = 'sfha'\n",
    "else: \n",
    "    insfha = 'all'\n",
    "\n",
    "# location of the output histogram PDF (contains all the input states)\n",
    "datestamp = str(date.today()).replace('-','')\n",
    "newfileName = f'_{map_unmapped}_{insfha}_{bestFit}_{datestamp}'\n",
    "\n",
    "pdfOut = os.path.join(outHist_Folder, 'histograms' + newfileName +'.pdf')\n",
    "\n",
    "# location of the output table CSV (contains all the input states)\n",
    "tableOut = os.path.join(outTable_Folder, 'tables' + newfileName + '.csv')\n",
    "\n",
    "# sort the list of states alphabetically\n",
    "processingStateList = sorted(processingStateList)"
   ]
  },
  {
   "cell_type": "markdown",
   "metadata": {},
   "source": [
    "## Create one pdf of histograms and/or one CSV table for the specified states, arranged alphabetically by state"
   ]
  },
  {
   "cell_type": "code",
   "execution_count": 21,
   "metadata": {},
   "outputs": [
    {
     "name": "stdout",
     "output_type": "stream",
     "text": [
      "Delaware\n",
      "All:  331654\n",
      "DistrictOfColumbia\n",
      "All:  58330\n",
      "Maryland\n",
      "All:  1590655\n",
      "Pennsylvania\n",
      "All:  4801561\n",
      "Virginia\n",
      "All:  3020994\n",
      "WestVirginia\n",
      "All:  1020048\n",
      "Completed in 0.84 minutes\n"
     ]
    }
   ],
   "source": [
    "# for histograms\n",
    "%matplotlib inline\n",
    "# turn interactive mode off (for use with PdfPages)\n",
    "plt.ioff()\n",
    "# for tables\n",
    "outdf = initializeTable(FIELDNAMES)\n",
    "# create dummy histogram pdf output if only tables are output\n",
    "if output_types == 'tables': \n",
    "    pdfOut = r'C:\\temp\\dummyHist.pdf'\n",
    "with PdfPages(pdfOut) as pp:\n",
    "    # loop through the states\n",
    "    for st in processingStateList:\n",
    "        print(st)\n",
    "        st_abb = stateabb[st]\n",
    "        st_fips = state_codes[st_abb]\n",
    "\n",
    "        # read in the distance CSV for a state\n",
    "        dist_df = readDistances(inCSV_Folder, st_abb, st_fips, map_unmapped, INDIST_FIELDS)\n",
    "\n",
    "        print('All: ', len(dist_df))\n",
    "        # if user specifies only centroids within SFHA, then read in building attributes CSV as data frame\n",
    "        if sfha:\n",
    "            bldg_attr_csv = os.path.join(bldg_attr_Root, st_fips+'_'+st_abb+'_Bldg_Attr.txt')\n",
    "            bldg_attr_df = pd.read_csv(bldg_attr_csv, usecols=INSFHA_FIELDS)\n",
    "            \n",
    "            # retrieve only the building centroid ids within the SFHA\n",
    "            dist_df = getQueriedData(dist_df, DIST_ID, DIST_FIELD, bldg_attr_df, BLDGATTR_ID, BLDGATTR_FLDZONE, sfha_fld_zones)\n",
    "            print('Within SFHA: ', len(dist_df))\n",
    "            \n",
    "        # otherwise, get the Near distances for all of the centroids\n",
    "        else:\n",
    "            dist_df = dist_df[DIST_FIELD]\n",
    "\n",
    "        meters_array = dist_df.values\n",
    "        # remove nulls\n",
    "        meters_array = meters_array[~np.isnan(meters_array)]\n",
    "        # convert array to miles and get stats\n",
    "        arrayStats = getStats(meters_array)\n",
    "\n",
    "        # create histogram - write each state's histogram to the same PDF file using PdfPages\n",
    "        if output_types =='histograms' : \n",
    "            createHistogram(arrayStats, sfha, st_abb, stateabb, pp, best_fit)\n",
    "            \n",
    "        elif output_types == 'tables': \n",
    "            outdf = outdf.append(addTableRow(outdf, FIELDNAMES, arrayStats, st, st_abb, st_fips), sort = False)\n",
    "            \n",
    "        elif output_types == 'hist_and_tables': \n",
    "            createHistogram(arrayStats, sfha, st_abb, stateabb, pp, best_fit)\n",
    "            outdf = outdf.append(addTableRow(outdf, FIELDNAMES, arrayStats, st, st_abb, st_fips), sort = False)\n",
    "            \n",
    "# export all states to CSV\n",
    "if output_types == 'tables': \n",
    "    outdf.to_csv(tableOut, index = False)\n",
    "    os.remove(pdfOut)\n",
    "elif output_types == 'hist_and_tables':\n",
    "    outdf.to_csv(tableOut, index = False)\n",
    "    \n",
    "# end timer\n",
    "elapsed = str(round(((time() - starttime) / 60), 2))\n",
    "print(f'Completed in {elapsed} minutes')"
   ]
  }
 ],
 "metadata": {
  "kernelspec": {
   "display_name": "py36",
   "language": "python",
   "name": "py36"
  },
  "language_info": {
   "codemirror_mode": {
    "name": "ipython",
    "version": 3
   },
   "file_extension": ".py",
   "mimetype": "text/x-python",
   "name": "python",
   "nbconvert_exporter": "python",
   "pygments_lexer": "ipython3",
   "version": "3.6.8"
  },
  "nteract": {
   "version": "0.15.0"
  }
 },
 "nbformat": 4,
 "nbformat_minor": 2
}
