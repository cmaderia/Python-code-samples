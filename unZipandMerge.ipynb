{
 "cells": [
  {
   "cell_type": "code",
   "execution_count": 2,
   "id": "4907ac5f-1924-44e9-a07d-151cf6f6ee06",
   "metadata": {},
   "outputs": [],
   "source": [
    "import os\n",
    "import zipfile\n",
    "import arcpy\n",
    "#from glob import glob"
   ]
  },
  {
   "cell_type": "code",
   "execution_count": 69,
   "id": "da981926-c3a2-46cb-83e4-26b628da1e9a",
   "metadata": {},
   "outputs": [],
   "source": [
    "#infolder = r'G:\\Groups\\GIS\\Data\\Download_Data\\CENSUS\\TIGER\\2021_CensusTIGER_[222-3020]\\State\\IL\\Source_Data\\linearwater'\n",
    "infolder = r'G:\\Groups\\GIS\\Data\\Download_Data\\CENSUS\\TIGER\\2021_CensusTIGER_[222-3020]\\State\\MO\\Source_Data\\linearwater'\n",
    "\n",
    "outfolder = r'G:\\Groups\\GIS\\Data\\Download_Data\\CENSUS\\TIGER\\2021_CensusTIGER_[222-3020]\\State\\IL\\linearwater'\n",
    "#outfolder = r'G:\\Groups\\GIS\\Data\\Download_Data\\CENSUS\\TIGER\\2021_CensusTIGER_[222-3020]\\State\\MO\\linearwater'"
   ]
  },
  {
   "cell_type": "code",
   "execution_count": 33,
   "id": "7927a8b3-7bb8-449d-a550-7634e7d07648",
   "metadata": {},
   "outputs": [],
   "source": [
    "# https://stackoverflow.com/questions/31346790/unzip-all-zipped-files-in-a-folder-to-that-same-folder-using-python-2-7-5\n",
    "\n",
    "# unzip\n",
    "extension = '.zip'\n",
    "\n",
    "for item in os.listdir(infolder):\n",
    "    if item.endswith(extension):\n",
    "        zipped = os.path.join(infolder, item)\n",
    "        unzipped = os.path.join(outfolder, item)\n",
    "        with zipfile.ZipFile(zipped, 'r') as zip_ref:\n",
    "            zip_ref.extractall(outfolder)"
   ]
  },
  {
   "cell_type": "code",
   "execution_count": 70,
   "id": "432861a0-3318-47d9-969d-a655a5556f8b",
   "metadata": {
    "tags": []
   },
   "outputs": [],
   "source": [
    "# list shapefiles\n",
    "shplist = [os.path.join(outfolder, s) for s in os.listdir(outfolder) if s.endswith('.shp')]"
   ]
  },
  {
   "cell_type": "code",
   "execution_count": 71,
   "id": "dcb8c1d2-9ddf-40cd-84c8-90c776980d1a",
   "metadata": {},
   "outputs": [
    {
     "data": {
      "text/html": [
       "<div class='gpresult'><h2>Messages</h2><div id='messages' data-messages='[\"Start Time: Wednesday, February 8, 2023 8:23:45 PM\",\"Succeeded at Wednesday, February 8, 2023 8:24:06 PM (Elapsed Time: 20.76 seconds)\"]' data-show='true'><div id = 'default' /></div></div>"
      ],
      "text/plain": [
       "<Result 'G:\\\\Groups\\\\GIS\\\\Data\\\\Download_Data\\\\CENSUS\\\\TIGER\\\\2021_CensusTIGER_[222-3020]\\\\State\\\\IL\\\\linearwater\\\\merge\\\\IL_linearwater.gdb\\\\IL_linear_water_merged'>"
      ]
     },
     "execution_count": 71,
     "metadata": {},
     "output_type": "execute_result"
    }
   ],
   "source": [
    "# merge them\n",
    "state = outfolder.split('\\\\')[len(outfolder.split('\\\\'))-2]\n",
    "mergedir = os.path.join(outfolder, 'merge')\n",
    "gdbname = state+'_linearwater'\n",
    "if os.path.exists(mergedir) == False:\n",
    "    os.mkdir(mergedir)\n",
    "    arcpy.management.CreateFileGDB(mergedir, gdbname)\n",
    "arcpy.management.Merge(shplist, os.path.join(mergedir, gdbname+'.gdb', state+'_linear_water_merged'))"
   ]
  },
  {
   "cell_type": "code",
   "execution_count": null,
   "id": "60d1c193-29b2-4631-b6df-0a17f82354cf",
   "metadata": {},
   "outputs": [],
   "source": []
  },
  {
   "cell_type": "code",
   "execution_count": null,
   "id": "03cbd2f4-f2cb-479d-a6e5-1d7a6a5902ac",
   "metadata": {},
   "outputs": [],
   "source": []
  },
  {
   "cell_type": "code",
   "execution_count": null,
   "id": "3e768c6b-f9a7-4840-83d8-eb5d5e365604",
   "metadata": {},
   "outputs": [],
   "source": []
  },
  {
   "cell_type": "code",
   "execution_count": null,
   "id": "f0c8d0be-c4b5-45db-a9cc-391e279f8a80",
   "metadata": {},
   "outputs": [],
   "source": []
  },
  {
   "cell_type": "code",
   "execution_count": null,
   "id": "f9a3f5be-efb9-40e7-8174-98091db8f60d",
   "metadata": {},
   "outputs": [],
   "source": []
  }
 ],
 "metadata": {
  "kernelspec": {
   "display_name": "arcpro3",
   "language": "python",
   "name": "arcpro3"
  },
  "language_info": {
   "codemirror_mode": {
    "name": "ipython",
    "version": 3
   },
   "file_extension": ".py",
   "mimetype": "text/x-python",
   "name": "python",
   "nbconvert_exporter": "python",
   "pygments_lexer": "ipython3",
   "version": "3.9.11"
  }
 },
 "nbformat": 4,
 "nbformat_minor": 5
}
